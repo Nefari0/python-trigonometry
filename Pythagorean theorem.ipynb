{
 "cells": [
  {
   "cell_type": "code",
   "execution_count": 2,
   "metadata": {},
   "outputs": [],
   "source": [
    "import numpy as np\n",
    "import matplotlib.pyplot as plt"
   ]
  },
  {
   "cell_type": "code",
   "execution_count": 43,
   "metadata": {},
   "outputs": [
    {
     "data": {
      "image/png": "[encoded data removed]",
      "text/plain": [
       "<Figure size 432x288 with 1 Axes>"
      ]
     },
     "metadata": {
      "needs_background": "light"
     },
     "output_type": "display_data"
    }
   ],
   "source": [
    "a = 7\n",
    "b = 2\n",
    "\n",
    "c = np.sqrt(a**2 + b**2)\n",
    "\n",
    "# draw triangle\n",
    "\n",
    "plt.plot([0,a],[0,0],'k',linewidth=2)\n",
    "plt.plot([0,0],[0,b],'k')\n",
    "plt.plot([0,a],[b,0],'k')\n",
    "\n",
    "plt.plot([.3,.3],[.0,.3],'k',linewidth=1)\n",
    "plt.plot([0,.3],[.3,.3],'k')\n",
    "\n",
    "# plt.text(x,y,string) #using plt.text\n",
    "plt.text(a/3,-.45,'a=' + str(a),fontsize=15)\n",
    "plt.text(.1,b/3,'b=' + str(b),fontsize=15)\n",
    "plt.text(a/2+.1,b/2,'c=' + str(c),fontsize=15)\n",
    "\n",
    "plt.axis('square')\n",
    "axlim = np.max((a,b)) + .5\n",
    "plt.axis([-.5,axlim,-.5,axlim])\n",
    "# plt.axis('off')\n",
    "plt.show()"
   ]
  },
  {
   "cell_type": "code",
   "execution_count": 90,
   "metadata": {},
   "outputs": [
    {
     "data": {
      "image/png": "[encoded data removed]",
      "text/plain": [
       "<Figure size 432x288 with 1 Axes>"
      ]
     },
     "metadata": {
      "needs_background": "light"
     },
     "output_type": "display_data"
    }
   ],
   "source": [
    "# exercise.independent\n",
    "z = np.complex(2,3)\n",
    "k1 = np.sqrt(np.imag(z)**2/np.real(z)**2)\n",
    "k2 = np.tan(z)\n",
    "plt.plot([0,np.real(z)],[0,np.imag(z)],'r-')\n",
    "\n",
    "\n",
    "plt.axis('equal')\n",
    "plt.axis('square')\n",
    "plt.show()\n",
    "# axlim = np.max(z)"
   ]
  },
  {
   "cell_type": "code",
   "execution_count": 93,
   "metadata": {},
   "outputs": [
    {
     "name": "stdout",
     "output_type": "stream",
     "text": [
      "0.9272952180016122 0.9272952180016122\n"
     ]
    }
   ],
   "source": [
    "# exercise.instructed\n",
    "z = np.complex(3,4)\n",
    "\n",
    "mag1 = np.sqrt(np.real(z)**2 + np.imag(z)**2)\n",
    "mag2 = np.abs(z)\n",
    "\n",
    "ang1 = np.arctan2(np.imag(z),np.real(z))\n",
    "ang2 = np.angle(z)\n",
    "print(ang1,ang2)"
   ]
  }
 ],
 "metadata": {
  "kernelspec": {
   "display_name": "Python 3",
   "language": "python",
   "name": "python3"
  },
  "language_info": {
   "codemirror_mode": {
    "name": "ipython",
    "version": 3
   },
   "file_extension": ".py",
   "mimetype": "text/x-python",
   "name": "python",
   "nbconvert_exporter": "python",
   "pygments_lexer": "ipython3",
   "version": "3.7.6"
  }
 },
 "nbformat": 4,
 "nbformat_minor": 4
}
