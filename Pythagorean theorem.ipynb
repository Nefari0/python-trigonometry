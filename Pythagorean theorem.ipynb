{
 "cells": [
  {
   "cell_type": "code",
   "execution_count": 1,
   "metadata": {},
   "outputs": [],
   "source": [
    "import numpy as np\n",
    "import matplotlib.pyplot as plt"
   ]
  },
  {
   "cell_type": "code",
   "execution_count": 7,
   "metadata": {},
   "outputs": [
    {
     "data": {
      "image/png": "[encoded data removed]",
      "text/plain": [
       "<Figure size 432x288 with 1 Axes>"
      ]
     },
     "metadata": {
      "needs_background": "light"
     },
     "output_type": "display_data"
    }
   ],
   "source": [
    "a = 7\n",
    "b = 2\n",
    "\n",
    "c = np.sqrt(a**2 + b**2)\n",
    "\n",
    "# draw triangle\n",
    "\n",
    "plt.plot([0,a],[0,0],'k',linewidth=2)\n",
    "plt.plot([0,0],[0,b],'k')\n",
    "plt.plot([0,a],[b,0],'k')\n",
    "\n",
    "plt.plot([.3,.3],[.0,.3],'k',linewidth=1)\n",
    "plt.plot([0,.3],[.3,.3],'k')\n",
    "\n",
    "plt.text(a/3,-.45,'a=' + str(a),fontsize=15)\n",
    "plt.text(.1,b/3,'b=' + str(b),fontsize=15)\n",
    "plt.text(a/2+.1,b/2,'c=' + str(c),fontsize=15)\n",
    "\n",
    "plt.axis('square')\n",
    "axlim = np.max((a,b)) + .5\n",
    "plt.axis([-.5,axlim,-.5,axlim])\n",
    "plt.axis('off')\n",
    "plt.show()"
   ]
  }
 ],
 "metadata": {
  "kernelspec": {
   "display_name": "Python 3",
   "language": "python",
   "name": "python3"
  },
  "language_info": {
   "codemirror_mode": {
    "name": "ipython",
    "version": 3
   },
   "file_extension": ".py",
   "mimetype": "text/x-python",
   "name": "python",
   "nbconvert_exporter": "python",
   "pygments_lexer": "ipython3",
   "version": "3.8.5"
  }
 },
 "nbformat": 4,
 "nbformat_minor": 4
}
